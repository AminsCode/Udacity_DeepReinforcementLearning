{
 "cells": [
  {
   "cell_type": "markdown",
   "metadata": {},
   "source": [
    "# Collaboration and Competition\n",
    "\n",
    "---\n",
    "\n",
    "In this notebook, you will learn how to use the Unity ML-Agents environment for the second project of the [Deep Reinforcement Learning Nanodegree](https://www.udacity.com/course/deep-reinforcement-learning-nanodegree--nd893) program.\n",
    "\n",
    "### 1. Start the Environment\n",
    "\n",
    "We begin by importing the necessary packages.  If the code cell below returns an error, please revisit the project instructions to double-check that you have installed [Unity ML-Agents](https://github.com/Unity-Technologies/ml-agents/blob/master/docs/Installation.md) and [NumPy](http://www.numpy.org/)."
   ]
  },
  {
   "cell_type": "code",
   "execution_count": 1,
   "metadata": {},
   "outputs": [
    {
     "name": "stdout",
     "output_type": "stream",
     "text": [
      "\u001b[31mtensorflow 1.7.1 has requirement numpy>=1.13.3, but you'll have numpy 1.12.1 which is incompatible.\u001b[0m\r\n",
      "\u001b[31mipython 6.5.0 has requirement prompt-toolkit<2.0.0,>=1.0.15, but you'll have prompt-toolkit 3.0.20 which is incompatible.\u001b[0m\r\n"
     ]
    }
   ],
   "source": [
    "!pip -q install ./python"
   ]
  },
  {
   "cell_type": "code",
   "execution_count": 2,
   "metadata": {},
   "outputs": [],
   "source": [
    "from maddpg_agent import Agent\n",
    "from collections import deque\n",
    "import matplotlib.pyplot as plt\n",
    "import numpy as np\n",
    "import random\n",
    "import time\n",
    "import torch\n",
    "from unityagents import UnityEnvironment\n",
    "\n",
    "%matplotlib inline"
   ]
  },
  {
   "cell_type": "markdown",
   "metadata": {},
   "source": [
    "Next, we will start the environment!  **_Before running the code cell below_**, change the `file_name` parameter to match the location of the Unity environment that you downloaded.\n",
    "\n",
    "- **Mac**: `\"path/to/Reacher.app\"`\n",
    "- **Windows** (x86): `\"path/to/Reacher_Windows_x86/Reacher.exe\"`\n",
    "- **Windows** (x86_64): `\"path/to/Reacher_Windows_x86_64/Reacher.exe\"`\n",
    "- **Linux** (x86): `\"path/to/Reacher_Linux/Reacher.x86\"`\n",
    "- **Linux** (x86_64): `\"path/to/Reacher_Linux/Reacher.x86_64\"`\n",
    "- **Linux** (x86, headless): `\"path/to/Reacher_Linux_NoVis/Reacher.x86\"`\n",
    "- **Linux** (x86_64, headless): `\"path/to/Reacher_Linux_NoVis/Reacher.x86_64\"`\n",
    "\n",
    "For instance, if you are using a Mac, then you downloaded `Reacher.app`.  If this file is in the same folder as the notebook, then the line below should appear as follows:\n",
    "```\n",
    "env = UnityEnvironment(file_name=\"Reacher.app\")\n",
    "```"
   ]
  },
  {
   "cell_type": "code",
   "execution_count": 3,
   "metadata": {},
   "outputs": [
    {
     "name": "stderr",
     "output_type": "stream",
     "text": [
      "INFO:unityagents:\n",
      "'Academy' started successfully!\n",
      "Unity Academy name: Academy\n",
      "        Number of Brains: 1\n",
      "        Number of External Brains : 1\n",
      "        Lesson number : 0\n",
      "        Reset Parameters :\n",
      "\t\t\n",
      "Unity brain name: TennisBrain\n",
      "        Number of Visual Observations (per agent): 0\n",
      "        Vector Observation space type: continuous\n",
      "        Vector Observation space size (per agent): 8\n",
      "        Number of stacked Vector Observation: 3\n",
      "        Vector Action space type: continuous\n",
      "        Vector Action space size (per agent): 2\n",
      "        Vector Action descriptions: , \n"
     ]
    }
   ],
   "source": [
    "## when running locally\n",
    "env = UnityEnvironment(file_name=\"/data/Tennis_Linux_NoVis/Tennis\")\n"
   ]
  },
  {
   "cell_type": "markdown",
   "metadata": {},
   "source": [
    "Environments contain **_brains_** which are responsible for deciding the actions of their associated agents. Here we check for the first brain available, and set it as the default brain we will be controlling from Python."
   ]
  },
  {
   "cell_type": "code",
   "execution_count": 4,
   "metadata": {},
   "outputs": [],
   "source": [
    "# get the default brain\n",
    "brain_name = env.brain_names[0]\n",
    "brain = env.brains[brain_name]"
   ]
  },
  {
   "cell_type": "markdown",
   "metadata": {},
   "source": [
    "### 2. Examine the State and Action Spaces\n",
    "\n",
    "In this environment, two agents control rackets to bounce a ball over a net. If an agent hits the ball over the net, it receives a reward of +0.1.  If an agent lets a ball hit the ground or hits the ball out of bounds, it receives a reward of -0.01.  Thus, the goal of each agent is to keep the ball in play.\n",
    "\n",
    "The observation space consists of 8 variables corresponding to the position and velocity of the ball and racket. Two continuous actions are available, corresponding to movement toward (or away from) the net, and jumping. \n",
    "\n",
    "Run the code cell below to print some information about the environment."
   ]
  },
  {
   "cell_type": "code",
   "execution_count": 5,
   "metadata": {},
   "outputs": [
    {
     "name": "stdout",
     "output_type": "stream",
     "text": [
      "Number of agents: 2\n",
      "Size of each action: 2\n",
      "There are 2 agents. Each observes a state with length: 24\n",
      "The state for the first agent looks like: [ 0.          0.          0.          0.          0.          0.          0.\n",
      "  0.          0.          0.          0.          0.          0.          0.\n",
      "  0.          0.         -6.65278625 -1.5        -0.          0.\n",
      "  6.83172083  6.         -0.          0.        ]\n"
     ]
    }
   ],
   "source": [
    "# reset the environment\n",
    "env_info = env.reset(train_mode=True)[brain_name]\n",
    "\n",
    "# number of agents\n",
    "num_agents = len(env_info.agents)\n",
    "print('Number of agents:', num_agents)\n",
    "\n",
    "# size of each action\n",
    "action_size = brain.vector_action_space_size\n",
    "print('Size of each action:', action_size)\n",
    "\n",
    "# examine the state space \n",
    "states = env_info.vector_observations\n",
    "state_size = states.shape[1]\n",
    "print('There are {} agents. Each observes a state with length: {}'.format(states.shape[0], state_size))\n",
    "print('The state for the first agent looks like:', states[0])"
   ]
  },
  {
   "cell_type": "markdown",
   "metadata": {},
   "source": [
    "### 3. Take Random Actions in the Environment\n",
    "\n",
    "In the next code cell, you will learn how to use the Python API to control the agent and receive feedback from the environment.\n",
    "\n",
    "Once this cell is executed, you will watch the agent's performance, if it selects an action at random with each time step.  A window should pop up that allows you to observe the agent, as it moves through the environment.  \n",
    "\n",
    "Of course, as part of the project, you'll have to change the code so that the agent is able to use its experience to gradually choose better actions when interacting with the environment!"
   ]
  },
  {
   "cell_type": "code",
   "execution_count": 6,
   "metadata": {},
   "outputs": [
    {
     "name": "stdout",
     "output_type": "stream",
     "text": [
      "Score (max over agents) from episode 1: 0.0\n",
      "Score (max over agents) from episode 2: 0.10000000149011612\n",
      "Score (max over agents) from episode 3: 0.0\n",
      "Score (max over agents) from episode 4: 0.0\n",
      "Score (max over agents) from episode 5: 0.0\n"
     ]
    }
   ],
   "source": [
    "for i in range(1, 6):                                      # play game for 5 episodes\n",
    "    env_info = env.reset(train_mode=False)[brain_name]     # reset the environment    \n",
    "    states = env_info.vector_observations                  # get the current state (for each agent)\n",
    "    scores = np.zeros(num_agents)                          # initialize the score (for each agent)\n",
    "    while True:\n",
    "        actions = np.random.randn(num_agents, action_size) # select an action (for each agent)\n",
    "        actions = np.clip(actions, -1, 1)                  # all actions between -1 and 1\n",
    "        env_info = env.step(actions)[brain_name]           # send all actions to tne environment\n",
    "        next_states = env_info.vector_observations         # get next state (for each agent)\n",
    "        rewards = env_info.rewards                         # get reward (for each agent)\n",
    "        dones = env_info.local_done                        # see if episode finished\n",
    "        scores += env_info.rewards                         # update the score (for each agent)\n",
    "        states = next_states                               # roll over states to next time step\n",
    "        if np.any(dones):                                  # exit loop if episode finished\n",
    "            break\n",
    "    print('Score (max over agents) from episode {}: {}'.format(i, np.max(scores)))"
   ]
  },
  {
   "cell_type": "markdown",
   "metadata": {},
   "source": [
    "### 4. It's Your Turn!\n",
    "\n",
    "Now it's your turn to train your own agent to solve the environment!  When training the environment, set `train_mode=True`, so that the line for resetting the environment looks like the following:\n",
    "```python\n",
    "env_info = env.reset(train_mode=True)[brain_name]\n",
    "```"
   ]
  },
  {
   "cell_type": "code",
   "execution_count": 7,
   "metadata": {},
   "outputs": [],
   "source": [
    "SOLVED_SCORE = 0.5\n",
    "CONSEC_EPISODES = 100\n",
    "PRINT_EVERY = 10\n",
    "ADD_NOISE = True\n",
    "\n",
    "# MADDPG function\n",
    "def maddpg(n_episodes=2000, max_t=1000, train_mode=True):\n",
    "    \"\"\"Multi-Agent Deep Deterministic Policy Gradient (MADDPG)\n",
    "    \n",
    "    Params\n",
    "    ======\n",
    "        n_episodes (int)      : maximum number of training episodes\n",
    "        max_t (int)           : maximum number of timesteps per episode\n",
    "        train_mode (bool)     : if 'True' set environment to training mode\n",
    "\n",
    "    \"\"\"\n",
    "    scores_window = deque(maxlen=CONSEC_EPISODES)\n",
    "    scores_all = []\n",
    "    moving_average = []\n",
    "    best_score = -np.inf\n",
    "    best_episode = 0\n",
    "    already_solved = False\n",
    "    \n",
    "\n",
    "    for i_episode in range(1, n_episodes+1):\n",
    "        env_info = env.reset(train_mode=train_mode)[brain_name]         # reset the environment\n",
    "        states = np.reshape(env_info.vector_observations, (1,48)) # get states and combine them\n",
    "        agent_0.reset()\n",
    "        agent_1.reset()\n",
    "        scores = np.zeros(num_agents)\n",
    "        while True:\n",
    "            actions = get_actions(states, ADD_NOISE)           # choose agent actions and combine them\n",
    "            env_info = env.step(actions)[brain_name]           # send both agents' actions together to the environment\n",
    "            next_states = np.reshape(env_info.vector_observations, (1, 48)) # combine the agent next states\n",
    "            rewards = env_info.rewards                         # get reward\n",
    "            done = env_info.local_done                         # see if episode finished\n",
    "            agent_0.step(states, actions, rewards[0], next_states, done, 0) # agent 1 learns\n",
    "            agent_1.step(states, actions, rewards[1], next_states, done, 1) # agent 2 learns\n",
    "            scores += np.max(rewards)                          # update the score for each agent\n",
    "            states = next_states                               # roll over states to next time step\n",
    "            if np.any(done):                                   # exit loop if episode finished\n",
    "                break\n",
    "\n",
    "        ep_best_score = np.max(scores)\n",
    "        scores_window.append(ep_best_score)\n",
    "        scores_all.append(ep_best_score)\n",
    "        moving_average.append(np.mean(scores_window))\n",
    "\n",
    "        # save best score                        \n",
    "        if ep_best_score > best_score:\n",
    "            best_score = ep_best_score\n",
    "            best_episode = i_episode\n",
    "        \n",
    "        # print results\n",
    "        if i_episode % PRINT_EVERY == 0:\n",
    "            print('Episodes {:0>4d}-{:0>4d}\\tMax Score: {:.3f}\\tAverage Score: {:.3f}'.format(\n",
    "                i_episode-PRINT_EVERY, i_episode, np.max(scores_all[-PRINT_EVERY:]), moving_average[-1]))\n",
    "\n",
    "        # determine if environment is solved\n",
    "        if moving_average[-1] >= SOLVED_SCORE:\n",
    "            print(' ------Environment solved in {:d} episodes!------ \\\n",
    "            \\n ------Average Score: {:.3f} over past {:d} episodes------ '.format(\n",
    "                i_episode-CONSEC_EPISODES, moving_average[-1], CONSEC_EPISODES))\n",
    "            already_solved = True\n",
    "            # save weights\n",
    "            torch.save(agent_0.actor_local.state_dict(), 'checkpoint_actor_0.pth')\n",
    "            torch.save(agent_0.critic_local.state_dict(), 'checkpoint_critic_0.pth')\n",
    "            torch.save(agent_1.actor_local.state_dict(), 'checkpoint_actor_1.pth')\n",
    "            torch.save(agent_1.critic_local.state_dict(), 'checkpoint_critic_1.pth')\n",
    "            break\n",
    "        else:\n",
    "            continue\n",
    "            \n",
    "    return scores_all, moving_average"
   ]
  },
  {
   "cell_type": "code",
   "execution_count": 8,
   "metadata": {},
   "outputs": [],
   "source": [
    "def get_actions(states, add_noise):\n",
    "    '''gets actions for each agent and then combines them into one array'''\n",
    "    action_0 = agent_0.act(states, add_noise)    # agent 0 chooses an action\n",
    "    action_1 = agent_1.act(states, add_noise)    # agent 1 chooses an action\n",
    "    return np.concatenate((action_0, action_1), axis=0).flatten()   \n",
    "\n",
    "# initialize agents\n",
    "agent_0 = Agent(state_size, action_size, num_agents=1, random_seed=0)\n",
    "agent_1 = Agent(state_size, action_size, num_agents=1, random_seed=0)"
   ]
  },
  {
   "cell_type": "code",
   "execution_count": 9,
   "metadata": {},
   "outputs": [
    {
     "name": "stdout",
     "output_type": "stream",
     "text": [
      "Episodes 0000-0010\tMax Score: 0.000\tAverage Score: 0.000\n",
      "Episodes 0010-0020\tMax Score: 0.100\tAverage Score: 0.005\n",
      "Episodes 0020-0030\tMax Score: 0.100\tAverage Score: 0.007\n",
      "Episodes 0030-0040\tMax Score: 0.000\tAverage Score: 0.005\n",
      "Episodes 0040-0050\tMax Score: 0.100\tAverage Score: 0.006\n",
      "Episodes 0050-0060\tMax Score: 0.200\tAverage Score: 0.008\n",
      "Episodes 0060-0070\tMax Score: 0.100\tAverage Score: 0.010\n",
      "Episodes 0070-0080\tMax Score: 0.100\tAverage Score: 0.010\n",
      "Episodes 0080-0090\tMax Score: 0.100\tAverage Score: 0.010\n",
      "Episodes 0090-0100\tMax Score: 0.100\tAverage Score: 0.011\n",
      "Episodes 0100-0110\tMax Score: 0.000\tAverage Score: 0.011\n",
      "Episodes 0110-0120\tMax Score: 0.000\tAverage Score: 0.010\n",
      "Episodes 0120-0130\tMax Score: 0.000\tAverage Score: 0.009\n",
      "Episodes 0130-0140\tMax Score: 0.100\tAverage Score: 0.010\n",
      "Episodes 0140-0150\tMax Score: 0.200\tAverage Score: 0.014\n",
      "Episodes 0150-0160\tMax Score: 0.100\tAverage Score: 0.016\n",
      "Episodes 0160-0170\tMax Score: 0.100\tAverage Score: 0.016\n",
      "Episodes 0170-0180\tMax Score: 0.100\tAverage Score: 0.016\n",
      "Episodes 0180-0190\tMax Score: 0.200\tAverage Score: 0.023\n",
      "Episodes 0190-0200\tMax Score: 0.200\tAverage Score: 0.024\n",
      "Episodes 0200-0210\tMax Score: 0.300\tAverage Score: 0.031\n",
      "Episodes 0210-0220\tMax Score: 0.100\tAverage Score: 0.035\n",
      "Episodes 0220-0230\tMax Score: 0.100\tAverage Score: 0.039\n",
      "Episodes 0230-0240\tMax Score: 0.300\tAverage Score: 0.048\n",
      "Episodes 0240-0250\tMax Score: 0.200\tAverage Score: 0.050\n",
      "Episodes 0250-0260\tMax Score: 0.200\tAverage Score: 0.054\n",
      "Episodes 0260-0270\tMax Score: 0.100\tAverage Score: 0.054\n",
      "Episodes 0270-0280\tMax Score: 0.200\tAverage Score: 0.062\n",
      "Episodes 0280-0290\tMax Score: 0.200\tAverage Score: 0.059\n",
      "Episodes 0290-0300\tMax Score: 0.200\tAverage Score: 0.065\n",
      "Episodes 0300-0310\tMax Score: 0.300\tAverage Score: 0.067\n",
      "Episodes 0310-0320\tMax Score: 0.300\tAverage Score: 0.073\n",
      "Episodes 0320-0330\tMax Score: 0.200\tAverage Score: 0.075\n",
      "Episodes 0330-0340\tMax Score: 0.300\tAverage Score: 0.075\n",
      "Episodes 0340-0350\tMax Score: 0.200\tAverage Score: 0.075\n",
      "Episodes 0350-0360\tMax Score: 0.200\tAverage Score: 0.078\n",
      "Episodes 0360-0370\tMax Score: 0.200\tAverage Score: 0.084\n",
      "Episodes 0370-0380\tMax Score: 0.200\tAverage Score: 0.082\n",
      "Episodes 0380-0390\tMax Score: 0.200\tAverage Score: 0.084\n",
      "Episodes 0390-0400\tMax Score: 0.300\tAverage Score: 0.090\n",
      "Episodes 0400-0410\tMax Score: 0.200\tAverage Score: 0.089\n",
      "Episodes 0410-0420\tMax Score: 0.300\tAverage Score: 0.092\n",
      "Episodes 0420-0430\tMax Score: 0.200\tAverage Score: 0.097\n",
      "Episodes 0430-0440\tMax Score: 0.200\tAverage Score: 0.097\n",
      "Episodes 0440-0450\tMax Score: 0.500\tAverage Score: 0.105\n",
      "Episodes 0450-0460\tMax Score: 0.200\tAverage Score: 0.106\n",
      "Episodes 0460-0470\tMax Score: 0.400\tAverage Score: 0.110\n",
      "Episodes 0470-0480\tMax Score: 0.200\tAverage Score: 0.110\n",
      "Episodes 0480-0490\tMax Score: 0.300\tAverage Score: 0.117\n",
      "Episodes 0490-0500\tMax Score: 0.200\tAverage Score: 0.109\n",
      "Episodes 0500-0510\tMax Score: 0.300\tAverage Score: 0.114\n",
      "Episodes 0510-0520\tMax Score: 0.300\tAverage Score: 0.115\n",
      "Episodes 0520-0530\tMax Score: 0.400\tAverage Score: 0.122\n",
      "Episodes 0530-0540\tMax Score: 0.400\tAverage Score: 0.124\n",
      "Episodes 0540-0550\tMax Score: 0.300\tAverage Score: 0.125\n",
      "Episodes 0550-0560\tMax Score: 0.200\tAverage Score: 0.124\n",
      "Episodes 0560-0570\tMax Score: 0.400\tAverage Score: 0.128\n",
      "Episodes 0570-0580\tMax Score: 0.400\tAverage Score: 0.136\n",
      "Episodes 0580-0590\tMax Score: 0.200\tAverage Score: 0.132\n",
      "Episodes 0590-0600\tMax Score: 0.600\tAverage Score: 0.145\n",
      "Episodes 0600-0610\tMax Score: 0.500\tAverage Score: 0.147\n",
      "Episodes 0610-0620\tMax Score: 0.400\tAverage Score: 0.149\n",
      "Episodes 0620-0630\tMax Score: 0.300\tAverage Score: 0.144\n",
      "Episodes 0630-0640\tMax Score: 0.700\tAverage Score: 0.148\n",
      "Episodes 0640-0650\tMax Score: 0.800\tAverage Score: 0.162\n",
      "Episodes 0650-0660\tMax Score: 0.900\tAverage Score: 0.177\n",
      "Episodes 0660-0670\tMax Score: 0.500\tAverage Score: 0.183\n",
      "Episodes 0670-0680\tMax Score: 0.400\tAverage Score: 0.176\n",
      "Episodes 0680-0690\tMax Score: 0.100\tAverage Score: 0.169\n",
      "Episodes 0690-0700\tMax Score: 0.100\tAverage Score: 0.153\n",
      "Episodes 0700-0710\tMax Score: 0.100\tAverage Score: 0.139\n",
      "Episodes 0710-0720\tMax Score: 0.100\tAverage Score: 0.126\n",
      "Episodes 0720-0730\tMax Score: 0.100\tAverage Score: 0.116\n",
      "Episodes 0730-0740\tMax Score: 0.100\tAverage Score: 0.105\n",
      "Episodes 0740-0750\tMax Score: 0.100\tAverage Score: 0.077\n",
      "Episodes 0750-0760\tMax Score: 0.100\tAverage Score: 0.055\n",
      "Episodes 0760-0770\tMax Score: 0.100\tAverage Score: 0.037\n",
      "Episodes 0770-0780\tMax Score: 0.100\tAverage Score: 0.034\n",
      "Episodes 0780-0790\tMax Score: 0.100\tAverage Score: 0.036\n",
      "Episodes 0790-0800\tMax Score: 0.100\tAverage Score: 0.035\n",
      "Episodes 0800-0810\tMax Score: 0.100\tAverage Score: 0.038\n",
      "Episodes 0810-0820\tMax Score: 0.100\tAverage Score: 0.036\n",
      "Episodes 0820-0830\tMax Score: 0.100\tAverage Score: 0.038\n",
      "Episodes 0830-0840\tMax Score: 0.100\tAverage Score: 0.035\n",
      "Episodes 0840-0850\tMax Score: 0.100\tAverage Score: 0.035\n",
      "Episodes 0850-0860\tMax Score: 0.100\tAverage Score: 0.037\n",
      "Episodes 0860-0870\tMax Score: 0.100\tAverage Score: 0.039\n",
      "Episodes 0870-0880\tMax Score: 0.100\tAverage Score: 0.042\n",
      "Episodes 0880-0890\tMax Score: 0.190\tAverage Score: 0.044\n",
      "Episodes 0890-0900\tMax Score: 0.200\tAverage Score: 0.048\n",
      "Episodes 0900-0910\tMax Score: 0.200\tAverage Score: 0.053\n",
      "Episodes 0910-0920\tMax Score: 0.300\tAverage Score: 0.059\n",
      "Episodes 0920-0930\tMax Score: 0.200\tAverage Score: 0.063\n",
      "Episodes 0930-0940\tMax Score: 0.200\tAverage Score: 0.065\n",
      "Episodes 0940-0950\tMax Score: 0.200\tAverage Score: 0.071\n",
      "Episodes 0950-0960\tMax Score: 0.200\tAverage Score: 0.068\n",
      "Episodes 0960-0970\tMax Score: 0.200\tAverage Score: 0.068\n",
      "Episodes 0970-0980\tMax Score: 0.200\tAverage Score: 0.067\n",
      "Episodes 0980-0990\tMax Score: 0.200\tAverage Score: 0.066\n",
      "Episodes 0990-1000\tMax Score: 0.400\tAverage Score: 0.068\n",
      "Episodes 1000-1010\tMax Score: 0.200\tAverage Score: 0.062\n",
      "Episodes 1010-1020\tMax Score: 0.200\tAverage Score: 0.062\n",
      "Episodes 1020-1030\tMax Score: 0.200\tAverage Score: 0.057\n",
      "Episodes 1030-1040\tMax Score: 0.400\tAverage Score: 0.070\n",
      "Episodes 1040-1050\tMax Score: 0.200\tAverage Score: 0.073\n",
      "Episodes 1050-1060\tMax Score: 0.200\tAverage Score: 0.078\n",
      "Episodes 1060-1070\tMax Score: 0.400\tAverage Score: 0.085\n",
      "Episodes 1070-1080\tMax Score: 0.800\tAverage Score: 0.089\n",
      "Episodes 1080-1090\tMax Score: 0.700\tAverage Score: 0.100\n",
      "Episodes 1090-1100\tMax Score: 0.300\tAverage Score: 0.108\n",
      "Episodes 1100-1110\tMax Score: 0.200\tAverage Score: 0.115\n",
      "Episodes 1110-1120\tMax Score: 0.400\tAverage Score: 0.125\n",
      "Episodes 1120-1130\tMax Score: 0.700\tAverage Score: 0.136\n",
      "Episodes 1130-1140\tMax Score: 0.400\tAverage Score: 0.139\n",
      "Episodes 1140-1150\tMax Score: 0.200\tAverage Score: 0.136\n",
      "Episodes 1150-1160\tMax Score: 0.300\tAverage Score: 0.143\n",
      "Episodes 1160-1170\tMax Score: 0.200\tAverage Score: 0.141\n",
      "Episodes 1170-1180\tMax Score: 0.600\tAverage Score: 0.143\n",
      "Episodes 1180-1190\tMax Score: 0.800\tAverage Score: 0.155\n",
      "Episodes 1190-1200\tMax Score: 0.600\tAverage Score: 0.159\n",
      "Episodes 1200-1210\tMax Score: 0.600\tAverage Score: 0.170\n",
      "Episodes 1210-1220\tMax Score: 0.400\tAverage Score: 0.172\n",
      "Episodes 1220-1230\tMax Score: 0.400\tAverage Score: 0.180\n",
      "Episodes 1230-1240\tMax Score: 0.900\tAverage Score: 0.188\n",
      "Episodes 1240-1250\tMax Score: 0.400\tAverage Score: 0.201\n",
      "Episodes 1250-1260\tMax Score: 0.600\tAverage Score: 0.204\n",
      "Episodes 1260-1270\tMax Score: 0.600\tAverage Score: 0.211\n",
      "Episodes 1270-1280\tMax Score: 0.500\tAverage Score: 0.221\n",
      "Episodes 1280-1290\tMax Score: 0.800\tAverage Score: 0.215\n",
      "Episodes 1290-1300\tMax Score: 0.300\tAverage Score: 0.212\n",
      "Episodes 1300-1310\tMax Score: 0.800\tAverage Score: 0.215\n",
      "Episodes 1310-1320\tMax Score: 0.600\tAverage Score: 0.221\n",
      "Episodes 1320-1330\tMax Score: 1.100\tAverage Score: 0.227\n",
      "Episodes 1330-1340\tMax Score: 0.700\tAverage Score: 0.231\n",
      "Episodes 1340-1350\tMax Score: 0.700\tAverage Score: 0.238\n",
      "Episodes 1350-1360\tMax Score: 1.900\tAverage Score: 0.272\n",
      "Episodes 1360-1370\tMax Score: 0.900\tAverage Score: 0.280\n",
      "Episodes 1370-1380\tMax Score: 3.800\tAverage Score: 0.347\n",
      "Episodes 1380-1390\tMax Score: 2.600\tAverage Score: 0.428\n",
      "Episodes 1390-1400\tMax Score: 4.000\tAverage Score: 0.521\n",
      " ------Environment solved in 1300 episodes!------             \n",
      " ------Average Score: 0.521 over past 100 episodes------ \n"
     ]
    }
   ],
   "source": [
    "scores, avgs = maddpg()"
   ]
  },
  {
   "cell_type": "code",
   "execution_count": 10,
   "metadata": {},
   "outputs": [
    {
     "data": {
      "image/png": "[encoded data removed]",
      "text/plain": [
       "<matplotlib.figure.Figure at 0x7f73b3a5be48>"
      ]
     },
     "metadata": {
      "needs_background": "light"
     },
     "output_type": "display_data"
    }
   ],
   "source": [
    "# plot the scores\n",
    "fig = plt.figure()\n",
    "ax = fig.add_subplot(111)\n",
    "plt.plot(np.arange(len(scores)), scores, label='MADDPG')\n",
    "plt.plot(np.arange(len(scores)), avgs, c='r', label='Average Score')\n",
    "plt.ylabel('Score')\n",
    "plt.xlabel('Episode #')\n",
    "plt.legend(loc='upper left');\n",
    "plt.show()"
   ]
  }
 ],
 "metadata": {
  "anaconda-cloud": {},
  "kernelspec": {
   "display_name": "Python 3",
   "language": "python",
   "name": "python3"
  },
  "language_info": {
   "codemirror_mode": {
    "name": "ipython",
    "version": 3
   },
   "file_extension": ".py",
   "mimetype": "text/x-python",
   "name": "python",
   "nbconvert_exporter": "python",
   "pygments_lexer": "ipython3",
   "version": "3.6.3"
  }
 },
 "nbformat": 4,
 "nbformat_minor": 2
}
